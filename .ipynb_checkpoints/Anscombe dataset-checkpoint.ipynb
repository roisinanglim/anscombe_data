{
 "cells": [
  {
   "attachments": {
    "anscombeimage.jpg": {
     "image/jpeg": "[encoded data removed]"
    }
   },
   "cell_type": "markdown",
   "metadata": {},
   "source": [
    "# About The Anscombe Datasets \n",
    "____________________________________________________\n",
    "\n",
    "![anscombeimage.jpg](attachment:anscombeimage.jpg)\n",
    "\n",
    "\n",
    "The Anscombe dataset was introduced in 1973 by Francis John \"Frank\" Anscombe who was an English statiscian [1](#1). \n",
    "\n",
    "The dataset was created to emphasize the importance of using graphs in statistical analysis and the effect of outliers on statistical properties [2](#2)\n",
    "\n",
    "\n",
    "The data consists of four datasets and each dataset consists of eleven (x,y) points. \n",
    "\n",
    "\n"
   ]
  },
  {
   "cell_type": "code",
   "execution_count": 1,
   "metadata": {},
   "outputs": [
    {
     "name": "stderr",
     "output_type": "stream",
     "text": [
      "C:\\Users\\Harvey Norman\\Ana\\Anaconda1\\lib\\site-packages\\ipykernel_launcher.py:17: FutureWarning: convert_objects is deprecated.  To re-infer data dtypes for object columns, use DataFrame.infer_objects()\n",
      "For all other conversions use the data-type specific converters pd.to_datetime, pd.to_timedelta and pd.to_numeric.\n"
     ]
    },
    {
     "data": {
      "text/html": [
       "<div>\n",
       "<style scoped>\n",
       "    .dataframe tbody tr th:only-of-type {\n",
       "        vertical-align: middle;\n",
       "    }\n",
       "\n",
       "    .dataframe tbody tr th {\n",
       "        vertical-align: top;\n",
       "    }\n",
       "\n",
       "    .dataframe thead th {\n",
       "        text-align: right;\n",
       "    }\n",
       "</style>\n",
       "<table border=\"1\" class=\"dataframe\">\n",
       "  <thead>\n",
       "    <tr style=\"text-align: right;\">\n",
       "      <th></th>\n",
       "      <th>Datasets</th>\n",
       "      <th>x1</th>\n",
       "      <th>x2</th>\n",
       "      <th>x3</th>\n",
       "      <th>x4</th>\n",
       "      <th>y1</th>\n",
       "      <th>y2</th>\n",
       "      <th>y3</th>\n",
       "      <th>y4</th>\n",
       "    </tr>\n",
       "  </thead>\n",
       "  <tbody>\n",
       "    <tr>\n",
       "      <th>0</th>\n",
       "      <td>NaN</td>\n",
       "      <td>NaN</td>\n",
       "      <td>NaN</td>\n",
       "      <td>NaN</td>\n",
       "      <td>NaN</td>\n",
       "      <td>NaN</td>\n",
       "      <td>NaN</td>\n",
       "      <td>NaN</td>\n",
       "      <td>NaN</td>\n",
       "    </tr>\n",
       "    <tr>\n",
       "      <th>1</th>\n",
       "      <td>1.0</td>\n",
       "      <td>10.0</td>\n",
       "      <td>10.0</td>\n",
       "      <td>10.0</td>\n",
       "      <td>8.0</td>\n",
       "      <td>8.04</td>\n",
       "      <td>9.14</td>\n",
       "      <td>7.46</td>\n",
       "      <td>6.58</td>\n",
       "    </tr>\n",
       "    <tr>\n",
       "      <th>2</th>\n",
       "      <td>2.0</td>\n",
       "      <td>8.0</td>\n",
       "      <td>8.0</td>\n",
       "      <td>8.0</td>\n",
       "      <td>8.0</td>\n",
       "      <td>6.95</td>\n",
       "      <td>8.14</td>\n",
       "      <td>6.77</td>\n",
       "      <td>5.76</td>\n",
       "    </tr>\n",
       "    <tr>\n",
       "      <th>3</th>\n",
       "      <td>3.0</td>\n",
       "      <td>13.0</td>\n",
       "      <td>13.0</td>\n",
       "      <td>13.0</td>\n",
       "      <td>8.0</td>\n",
       "      <td>7.58</td>\n",
       "      <td>8.74</td>\n",
       "      <td>12.74</td>\n",
       "      <td>7.71</td>\n",
       "    </tr>\n",
       "    <tr>\n",
       "      <th>4</th>\n",
       "      <td>4.0</td>\n",
       "      <td>9.0</td>\n",
       "      <td>9.0</td>\n",
       "      <td>9.0</td>\n",
       "      <td>8.0</td>\n",
       "      <td>8.81</td>\n",
       "      <td>8.77</td>\n",
       "      <td>7.11</td>\n",
       "      <td>8.84</td>\n",
       "    </tr>\n",
       "  </tbody>\n",
       "</table>\n",
       "</div>"
      ],
      "text/plain": [
       "   Datasets    x1    x2    x3   x4    y1    y2     y3    y4\n",
       "0       NaN   NaN   NaN   NaN  NaN   NaN   NaN    NaN   NaN\n",
       "1       1.0  10.0  10.0  10.0  8.0  8.04  9.14   7.46  6.58\n",
       "2       2.0   8.0   8.0   8.0  8.0  6.95  8.14   6.77  5.76\n",
       "3       3.0  13.0  13.0  13.0  8.0  7.58  8.74  12.74  7.71\n",
       "4       4.0   9.0   9.0   9.0  8.0  8.81  8.77   7.11  8.84"
      ]
     },
     "metadata": {},
     "output_type": "display_data"
    }
   ],
   "source": [
    "import pandas as pd \n",
    "import seaborn as sns \n",
    "import numpy as np \n",
    "import matplotlib.pyplot as plt \n",
    "from scipy.stats import linregress\n",
    "from IPython.display import display\n",
    "\n",
    "\n",
    "#This gives headings to the dataset\n",
    "heading = [\"Datasets\",\"x1\",\"x2\",\"x3\",\"x4\",\"y1\",\"y2\",\"y3\",\"y4\"] \n",
    "\n",
    "#data = np.genfromtxt(r'C:/Users/Harvey Norman/Desktop/anscombe/anscombe.csv',delimiter = ',')\n",
    "\n",
    "#This reads in the csv file & Replaces missing data\n",
    "df= pd.read_csv(r'C:/Users/Harvey Norman/Desktop/anscombe/anscombe.csv',skiprows=0,na_values = ['no info', '.'],names = heading)\n",
    "#Converts data to numeric\n",
    "df = df.convert_objects(convert_numeric=True)\n",
    "# Show first 5 lines of datset to explore the dataset\n",
    "display(df.head())\n",
    "\n",
    "#Identfies datatypes\n",
    "types = df.dtypes\n",
    "#Delete top row\n",
    "df=df.drop([0], axis=0)\n",
    "#Delete coulmn by name\n",
    "del df[\"Datasets\"]\n"
   ]
  },
  {
   "cell_type": "code",
   "execution_count": 2,
   "metadata": {},
   "outputs": [
    {
     "data": {
      "image/png": "[encoded data removed]",
      "text/plain": [
       "<Figure size 432x288 with 4 Axes>"
      ]
     },
     "metadata": {
      "needs_background": "light"
     },
     "output_type": "display_data"
    }
   ],
   "source": [
    "# This code bloc is plotting the 4 datasets.\n",
    "\n",
    "fig = plt.figure()\n",
    "# Adding a title to plots figure\n",
    "fig.suptitle(\"Anscombe's Quartete\", fontsize=16)\n",
    "    \n",
    "\n",
    "#Create subplot (221 - 2x rows,2xcolumns ,position)\n",
    "ax = plt.subplot(221)\n",
    "#add title to subplot\n",
    "ax.set_title(\"Dataset 1\")\n",
    "#creates linear regression equation\n",
    "slope, intercept, r_value, p_value, std_err = linregress(df['x1'], df['y1'])\n",
    "#Plots datapoints\n",
    "plt.scatter(df['x1'],df['y1'])\n",
    "#Plot regression line\n",
    "plt.plot([0,20],[intercept, slope * 20 + intercept])\n",
    "r_1 = r_value\n",
    "\n",
    "ax = plt.subplot(222)\n",
    "ax.set_title(\"Dataset 2\")\n",
    "slope, intercept, r_value, p_value, std_err = linregress(df['x2'], df['y2'])\n",
    "plt.scatter(df['x2'],df['y2'])\n",
    "plt.plot([0,20],[intercept, slope * 20 + intercept])\n",
    "r_2 = r_value\n",
    "\n",
    "ax = plt.subplot(223)\n",
    "ax.set_title(\"Dataset 3\")\n",
    "slope, intercept, r_value, p_value, std_err = linregress(df['x3'], df['y3'])\n",
    "plt.scatter(df['x3'],df['y3'])\n",
    "plt.plot([0,20],[intercept, slope * 20 + intercept])\n",
    "r_3 = r_value\n",
    "\n",
    "ax = plt.subplot(224)\n",
    "ax.set_title(\"Dataset 4\")\n",
    "slope, intercept, r_value, p_value, std_err = linregress(df['x4'], df['y4'])\n",
    "plt.scatter(df['x4'],df['y4'])\n",
    "plt.plot([0,20],[intercept, slope * 20 + intercept])\n",
    "#adjust subplot layout for subplot headings\n",
    "plt.tight_layout()\n",
    "#adjust superheading position\n",
    "fig.subplots_adjust(top=0.80)\n",
    "plt.show()\n",
    "r_4 = r_value\n"
   ]
  },
  {
   "cell_type": "code",
   "execution_count": 3,
   "metadata": {},
   "outputs": [
    {
     "name": "stdout",
     "output_type": "stream",
     "text": [
      "              x1         x2         x3         x4         y1         y2  \\\n",
      "count  11.000000  11.000000  11.000000  11.000000  11.000000  11.000000   \n",
      "mean    9.000000   9.000000   9.000000   9.000000   7.500909   7.500909   \n",
      "std     3.316625   3.316625   3.316625   3.316625   2.031568   2.031657   \n",
      "min     4.000000   4.000000   4.000000   8.000000   4.260000   3.100000   \n",
      "25%     6.500000   6.500000   6.500000   8.000000   6.315000   6.695000   \n",
      "50%     9.000000   9.000000   9.000000   8.000000   7.580000   8.140000   \n",
      "75%    11.500000  11.500000  11.500000   8.000000   8.570000   8.950000   \n",
      "max    14.000000  14.000000  14.000000  19.000000  10.840000   9.260000   \n",
      "\n",
      "              y3         y4  \n",
      "count  11.000000  11.000000  \n",
      "mean    7.500000   7.500909  \n",
      "std     2.030424   2.030579  \n",
      "min     5.390000   5.250000  \n",
      "25%     6.250000   6.170000  \n",
      "50%     7.110000   7.040000  \n",
      "75%     7.980000   8.190000  \n",
      "max    12.740000  12.500000  \n"
     ]
    }
   ],
   "source": [
    "# Produce descriptive statistics for each column of the dataset\n",
    "Descript_vals = df.describe()\n",
    "print(Descript_vals)\n"
   ]
  },
  {
   "cell_type": "code",
   "execution_count": 6,
   "metadata": {},
   "outputs": [
    {
     "name": "stdout",
     "output_type": "stream",
     "text": [
      "     DataSet  R_values\n",
      "0  Dataset 1  0.816421\n",
      "1  Dataset 2  0.816237\n",
      "2  Dataset 3  0.816287\n",
      "3  Dataset 4  0.816521\n"
     ]
    }
   ],
   "source": [
    "# Create a table with the R values from the liner regression plots\n",
    "R_vals = pd.DataFrame({ \"DataSet\": [\"Dataset 1\",\"Dataset 2\",\"Dataset 3\",\"Dataset 4\"],\"R_values\": [r_1,r_2,r_3,r_4]})\n",
    "print(R_vals)"
   ]
  },
  {
   "cell_type": "markdown",
   "metadata": {},
   "source": [
    "### Anscombe's Dataset analysied \n",
    "\n",
    "When we review the descriptive statistics for all four datasets the values for the mean,standard deviation(std) and R values are the same to two decimal places. \n",
    "\n",
    "* Mean X values is 11 \n",
    "* Mean Y values is 7.5\n",
    "* Std X values is 3.31\n",
    "* Std Y values is 2.03 \n",
    "* R values is 0.81\n",
    "\n",
    "However when we plot the graphs we see a different picture.\n",
    "\n",
    "* Dataset 1 shows a linear relationship \n",
    "* Dataset 2 does not show a linear relationship \n",
    "* Dataset 3 shows a linear relationship except for one outlier \n",
    "* Dataset 4 does not show a linear relationship and has an outlier.\n",
    "\n",
    "This dataset demonstrates that relying on descriptive/summary statistics alone can result in inappropriate conclusions being drawn from the data. In contrast on reviewing the graphs, it is evident that while dataset 1 would be examined using a linear model, dataset 2 would be examined with an nonlinear model. Furthermore,  outliers in dataset 3 and 4 would be removed prior to fitting a statistical model.\n",
    "\n",
    "In his 1973 paper, Anscombe finished with the following statment \"the user is not showered with graphical displays. He can get them only with trouble, cunning and a fighting spirit. It's time that was changed'.[3](#3) In line with this sentiment, while descriptve statistics form an important component of any data analysis report, these should be accompanied by appropriate and clear visualisations."
   ]
  },
  {
   "cell_type": "markdown",
   "metadata": {},
   "source": [
    "### References \n",
    "\n",
    "(#1)https://en.wikipedia.org/wiki/Anscombe%27s_quartet \n",
    "\n",
    "(#2)http://data.princeton.edu/wws509/stata/anscombe.html \n",
    "\n",
    "(#3)http://materias.df.uba.ar/l1aa2017c2/files/2017/09/Paper-Anscombe.pdf"
   ]
  },
  {
   "cell_type": "code",
   "execution_count": null,
   "metadata": {},
   "outputs": [],
   "source": []
  }
 ],
 "metadata": {
  "kernelspec": {
   "display_name": "Python 3",
   "language": "python",
   "name": "python3"
  },
  "language_info": {
   "codemirror_mode": {
    "name": "ipython",
    "version": 3
   },
   "file_extension": ".py",
   "mimetype": "text/x-python",
   "name": "python",
   "nbconvert_exporter": "python",
   "pygments_lexer": "ipython3",
   "version": "3.7.0"
  }
 },
 "nbformat": 4,
 "nbformat_minor": 2
}
