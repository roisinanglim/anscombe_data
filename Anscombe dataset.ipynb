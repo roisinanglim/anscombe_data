{
 "cells": [
  {
   "cell_type": "markdown",
   "metadata": {},
   "source": [
    "# About The Anscombe Datasets \n",
    "____________________________________________________\n",
    "\n",
    "The full dataset consists of four seperate datasets that contain eleven observations. "
   ]
  },
  {
   "cell_type": "code",
   "execution_count": 84,
   "metadata": {},
   "outputs": [
    {
     "name": "stdout",
     "output_type": "stream",
     "text": [
      "    x1  x2  x3  x4     P1    P2     P3    P4  Mean\n",
      "1   10  10  10   8   8.04  9.14   7.46  6.58   NaN\n",
      "2    8   8   8   8   6.95  8.14   6.77  5.76   NaN\n",
      "3   13  13  13   8   7.58  8.74  12.74  7.71   NaN\n",
      "4    9   9   9   8   8.81  8.77   7.11  8.84   NaN\n",
      "5   11  11  11   8   8.33  9.26   7.81  8.47   NaN\n",
      "6   14  14  14   8   9.96   8.1   8.84  7.04   NaN\n",
      "7    6   6   6   8   7.24  6.13   6.08  5.25   NaN\n",
      "8    4   4   4  19   4.26   3.1   5.39  12.5   NaN\n",
      "9   12  12  12   8  10.84  9.13   8.15  5.56   NaN\n",
      "10   7   7   7   8   4.82  7.26   6.42  7.91   NaN\n",
      "11   5   5   5   8   5.68  4.74   5.73  6.89   NaN\n"
     ]
    }
   ],
   "source": [
    "import pandas as pd \n",
    "import seaborn as sns \n",
    "import numpy as np \n",
    "import matplotlib.pyplot as plt \n",
    "\n",
    "#This gives headings to the dataset\n",
    "heading = [\"Datasets\",\"x1\",\"x2\",\"x3\",\"x4\",\"P1\",\"P2\",\"P3\",\"P4\"] \n",
    "#This reads in the csv file\n",
    "data = pd.read_csv(\"anscombe.csv\",names = heading)\n",
    "#Delete top row \n",
    "data1=data.drop([0], axis=0)\n",
    "del data1[\"Datasets\"]\n",
    "data1[\"Mean\"]=data1.mean(axis=1)\n",
    "\n",
    "\n",
    "print(data1)"
   ]
  }
 ],
 "metadata": {
  "kernelspec": {
   "display_name": "Python 3",
   "language": "python",
   "name": "python3"
  },
  "language_info": {
   "codemirror_mode": {
    "name": "ipython",
    "version": 3
   },
   "file_extension": ".py",
   "mimetype": "text/x-python",
   "name": "python",
   "nbconvert_exporter": "python",
   "pygments_lexer": "ipython3",
   "version": "3.7.0"
  }
 },
 "nbformat": 4,
 "nbformat_minor": 2
}
